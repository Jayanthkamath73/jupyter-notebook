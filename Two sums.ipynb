{
 "cells": [
  {
   "cell_type": "code",
   "execution_count": 11,
   "id": "0e780c68",
   "metadata": {},
   "outputs": [],
   "source": [
    "class Solution:\n",
    "    def twoSum(self, nums, target):\n",
    "        values={}\n",
    "        for idx,value in enumerate(nums):\n",
    "            reqno=target-value\n",
    "            if reqno in values:\n",
    "                return [values[reqno],idx]\n",
    "            else:\n",
    "                values[value]=idx"
   ]
  },
  {
   "cell_type": "code",
   "execution_count": 12,
   "id": "c138b121",
   "metadata": {},
   "outputs": [
    {
     "name": "stdout",
     "output_type": "stream",
     "text": [
      "[0, 1]\n"
     ]
    }
   ],
   "source": [
    "nums = [2, 7, 11, 15]      \n",
    "target = 9  \n",
    "obj = Solution()  \n",
    "print(obj.twoSum(nums, target))  \n"
   ]
  },
  {
   "cell_type": "code",
   "execution_count": null,
   "id": "0465dd0c",
   "metadata": {},
   "outputs": [],
   "source": []
  }
 ],
 "metadata": {
  "kernelspec": {
   "display_name": "Python 3 (ipykernel)",
   "language": "python",
   "name": "python3"
  },
  "language_info": {
   "codemirror_mode": {
    "name": "ipython",
    "version": 3
   },
   "file_extension": ".py",
   "mimetype": "text/x-python",
   "name": "python",
   "nbconvert_exporter": "python",
   "pygments_lexer": "ipython3",
   "version": "3.10.2"
  }
 },
 "nbformat": 4,
 "nbformat_minor": 5
}
