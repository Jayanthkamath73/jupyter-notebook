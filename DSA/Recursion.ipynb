{
 "cells": [
  {
   "cell_type": "code",
   "execution_count": 3,
   "id": "67729580",
   "metadata": {},
   "outputs": [],
   "source": [
    "#Russian Doll"
   ]
  },
  {
   "cell_type": "code",
   "execution_count": 4,
   "id": "f27ef400",
   "metadata": {},
   "outputs": [
    {
     "name": "stdout",
     "output_type": "stream",
     "text": [
      "All dolls are opened\n"
     ]
    }
   ],
   "source": [
    "def openrussiandoll(doll):\n",
    "    if doll == 1:\n",
    "        print(\"All dolls are opened\")\n",
    "    else:\n",
    "        openrussiandoll(doll-1)\n",
    "openrussiandoll(4)"
   ]
  },
  {
   "cell_type": "code",
   "execution_count": null,
   "id": "cf9d3359",
   "metadata": {},
   "outputs": [],
   "source": [
    "#power of 2"
   ]
  },
  {
   "cell_type": "code",
   "execution_count": 5,
   "id": "f9d72529",
   "metadata": {},
   "outputs": [
    {
     "name": "stdout",
     "output_type": "stream",
     "text": [
      "8\n"
     ]
    }
   ],
   "source": [
    "def powerof2(n):\n",
    "    if n==0:\n",
    "        return 1\n",
    "    else:\n",
    "        return 2 * powerof2(n-1)\n",
    "print(powerof2(3))"
   ]
  },
  {
   "cell_type": "code",
   "execution_count": null,
   "id": "fdb738ea",
   "metadata": {},
   "outputs": [],
   "source": [
    "#factorial"
   ]
  },
  {
   "cell_type": "code",
   "execution_count": 3,
   "id": "38d77d58",
   "metadata": {},
   "outputs": [
    {
     "data": {
      "text/plain": [
       "24"
      ]
     },
     "execution_count": 3,
     "metadata": {},
     "output_type": "execute_result"
    }
   ],
   "source": [
    "def factorial(n):\n",
    "    if n in [0,1]:\n",
    "        return 1\n",
    "    else:\n",
    "        return n * factorial(n-1)\n",
    "factorial(4)"
   ]
  },
  {
   "cell_type": "code",
   "execution_count": null,
   "id": "59ba442c",
   "metadata": {},
   "outputs": [],
   "source": [
    "#fibonacci"
   ]
  },
  {
   "cell_type": "code",
   "execution_count": 4,
   "id": "93c8bd7d",
   "metadata": {},
   "outputs": [
    {
     "name": "stdout",
     "output_type": "stream",
     "text": [
      "13\n"
     ]
    }
   ],
   "source": [
    "def fibonacci(n):\n",
    "    if n in [0,1]:\n",
    "        return n\n",
    "    else:\n",
    "        return fibonacci(n-1) + fibonacci(n-2)\n",
    "\n",
    "print(fibonacci(7))"
   ]
  },
  {
   "cell_type": "code",
   "execution_count": null,
   "id": "d0779611",
   "metadata": {},
   "outputs": [],
   "source": []
  }
 ],
 "metadata": {
  "kernelspec": {
   "display_name": "Python 3 (ipykernel)",
   "language": "python",
   "name": "python3"
  },
  "language_info": {
   "codemirror_mode": {
    "name": "ipython",
    "version": 3
   },
   "file_extension": ".py",
   "mimetype": "text/x-python",
   "name": "python",
   "nbconvert_exporter": "python",
   "pygments_lexer": "ipython3",
   "version": "3.10.2"
  }
 },
 "nbformat": 4,
 "nbformat_minor": 5
}
